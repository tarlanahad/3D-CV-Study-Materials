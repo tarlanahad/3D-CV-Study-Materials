{
 "cells": [
  {
   "cell_type": "code",
   "execution_count": 1,
   "id": "initial_id",
   "metadata": {
    "collapsed": true,
    "ExecuteTime": {
     "end_time": "2023-11-17T08:55:55.208002Z",
     "start_time": "2023-11-17T08:55:54.651219Z"
    }
   },
   "outputs": [],
   "source": [
    "import numpy as np\n",
    "import cv2\n",
    "import pandas as pd"
   ]
  },
  {
   "cell_type": "markdown",
   "source": [
    "# Homography Practice\n",
    "\n",
    "1. Given image coordinate pairs $\\( \\mathbf{u}_1'=(u_1', v_1') \\)$ and $\\( \\mathbf{u}_2'=(u_2', v_2') \\)$, show a method that derives the homography matrix $H$ such that $\\( \\mathbf{u}_1' \\approx H \\mathbf{u}_2' \\)$.\n",
    "\n",
    "     1.a Derive a matrix A such that $A\\mathbf{h} = 0$.\n",
    "    \n",
    "     1.b Derive a method for optimization.\n",
    "\n",
    "2. Method of calculating the normalization matrix $T_{3x3}$ - Given point pairs $\\( \\mathbf{u}_1 \\)$, find $T$.\n",
    "\n",
    "3. Given $T_1$, $H$, $T_2$ derive a method to denormalize $H$.\n"
   ],
   "metadata": {
    "collapsed": false
   },
   "id": "bc0d9b07a13a405c"
  },
  {
   "cell_type": "markdown",
   "source": [
    "# Solution for 1.a\n",
    "\n",
    "- The equation $A\\mathbf{h} = 0$ corresponds to the homography equation $\\omega \\mathbf{u} = H\\mathbf{x}$, where:\n",
    "\n",
    "$$\n",
    "\\omega\n",
    "\\begin{bmatrix}\n",
    "u \\\\\n",
    "v \\\\\n",
    "1\n",
    "\\end{bmatrix}\n",
    "=\n",
    "\\begin{bmatrix}\n",
    "h_{11} & h_{12} & h_{13} \\\\\n",
    "h_{21} & h_{22} & h_{23} \\\\\n",
    "h_{31} & h_{32} & h_{33} \\\\\n",
    "\\end{bmatrix}\n",
    "\\begin{bmatrix}\n",
    "x \\\\\n",
    "y \\\\\n",
    "1\n",
    "\\end{bmatrix}\n",
    "$$\n",
    "\n",
    "- Solving for $\\omega$, we get:\n",
    "\n",
    "$$\n",
    "\\omega = h_{31}x + h_{32}y + h_{33}\n",
    "$$\n",
    "\n",
    "- And for $\\omega u$:\n",
    "\n",
    "$$\n",
    "\\omega u = h_{11}x + h_{12}y + h_{13}\n",
    "$$\n",
    "\n",
    "- By substituting $\\omega$ from the third equation into the second, we can express $u$ in terms of $x$ and $y$:\n",
    "\n",
    "$$\n",
    "u = \\frac{h_{11}x + h_{12}y + h_{13}}{h_{31}x + h_{32}y + h_{33}}\n",
    "$$\n",
    "\n",
    "- This leads us to the following system of equations for each point correspondence:\n",
    "\n",
    "$$\n",
    "\\begin{bmatrix}\n",
    "x & y & 1 & 0 & 0 & 0 & -ux & -uy & -u \\\\\n",
    "0 & 0 & 0 & x & y & 1 & -vx & -vy & -v \\\\\n",
    "\\end{bmatrix}\n",
    "\\begin{bmatrix}\n",
    "h_{11} \\\\\n",
    "h_{12} \\\\\n",
    "h_{13} \\\\\n",
    "h_{21} \\\\\n",
    "h_{22} \\\\\n",
    "h_{23} \\\\\n",
    "h_{31} \\\\\n",
    "h_{32} \\\\\n",
    "h_{33} \\\\\n",
    "\\end{bmatrix}\n",
    "= 0\n",
    "$$\n",
    "\n",
    "- The rank of matrix $A$ has to be at least 8. We need at least 4 correspondences to solve for $H$.\n"
   ],
   "metadata": {
    "collapsed": false
   },
   "id": "156f82d6e4092239"
  },
  {
   "cell_type": "markdown",
   "source": [
    "# Solution for 1.b\n",
    "To approach the problem of solving the equation $A\\mathbf{h} = 0$ while avoiding the trivial solution $\\mathbf{h} = 0$, we use a constrained least squares (LSQ) method. This involves imposing a constraint on the norm of $\\mathbf{h}$, specifically:\n",
    "\n",
    "$$ \\|\\mathbf{h}\\|^2 = 1 \\text{, which can be rewritten as } \\mathbf{h}^T\\mathbf{h} = 1. $$\n",
    "\n",
    "With this constraint, our objective becomes minimizing a cost function $L(\\mathbf{h}, \\lambda)$ defined as:\n",
    "\n",
    "$$ L(\\mathbf{h}, \\lambda) = \\|\\mathbf{Ah}\\|^2 + \\lambda (\\mathbf{h}^T\\mathbf{h} - 1). $$\n",
    "\n",
    "To find the minimum of this function, we first set its derivative with respect to $\\mathbf{h}$ to zero:\n",
    "\n",
    "$$ \\frac{\\partial L(\\mathbf{h}, \\lambda)}{\\partial \\mathbf{h}} = 0. $$\n",
    "\n",
    "This leads us to the equation:\n",
    "\n",
    "$$ \\mathbf{A}^T\\mathbf{Ah} - \\lambda \\mathbf{h} = 0. $$\n",
    "\n",
    "Also, the derivative of $L$ with respect to $\\lambda$ gives us the constraint equation:\n",
    "\n",
    "$$ \\lambda (\\mathbf{h}^T\\mathbf{h} - 1) = 0, $$\n",
    "\n",
    "which simplifies to:\n",
    "\n",
    "$$ \\mathbf{h}^T\\mathbf{h} = 1. $$\n",
    "\n",
    "The key equation $\\mathbf{A}^T\\mathbf{Ah} = \\lambda \\mathbf{h}$ suggests that $\\mathbf{h}$ is an eigenvector of $\\mathbf{A}^T\\mathbf{A}$ and $\\lambda$ is the corresponding eigenvalue. Among all the eigenvalues of $\\mathbf{A}^T\\mathbf{A}$, the one that minimizes our problem is the smallest eigenvalue, $\\lambda_{\\min}$. \n",
    "\n",
    "Therefore, the solution $\\mathbf{h}$ to our original problem is the eigenvector of $\\mathbf{A}^T\\mathbf{A}$ associated with its smallest eigenvalue $\\lambda_{\\min}$. This eigenvalue satisfies:\n",
    "\n",
    "$$ \\mathbf{h}^T\\mathbf{A}^T\\mathbf{Ah} = \\lambda_{\\min} \\mathbf{h}^T\\mathbf{h} = \\lambda_{\\min}. $$\n"
   ],
   "metadata": {
    "collapsed": false
   },
   "id": "a154198ba5fac354"
  },
  {
   "cell_type": "markdown",
   "source": [
    "## Task 2\n",
    "# Derivation of the Normalization Matrix\n",
    "\n",
    "The normalization matrix $T$ is used to scale and translate a set of points so that their centroid is at the origin and their average distance from the origin is $\\sqrt{2}$, which enhances numerical stability for further calculations. The derivation of this matrix involves the following steps:\n",
    "\n",
    "1. **Scaling**:\n",
    "   - To scale the points, we multiply each coordinate by a scaling factor $s$. For a point $(u, v)$, this is represented as $s \\cdot u$ and $s \\cdot v$.\n",
    "\n",
    "2. **Translation**:\n",
    "   - After scaling, the points are translated such that the centroid is at the origin. For the scaled point $(u', v')$ and the original mean $(\\bar{u}, \\bar{v})$, the translated coordinates are $u'' = u' - \\bar{u}$ and $v'' = v' - \\bar{v}$.\n",
    "\n",
    "3. **Combining Operations**:\n",
    "   - The normalized coordinates $(u'', v'')$ can be expressed as:\n",
    "     $$ u'' = s \\cdot u - s \\cdot \\bar{u} $$\n",
    "     $$ v'' = s \\cdot v - s \\cdot \\bar{v} $$\n",
    "\n",
    "4. **Matrix Form**:\n",
    "   - We can express these operations in matrix form for homogeneous coordinates:\n",
    "     $$ \\begin{bmatrix} u'' \\\\ v'' \\\\ 1 \\end{bmatrix} = \\begin{bmatrix} s & 0 & -s \\cdot \\bar{u} \\\\ 0 & s & -s \\cdot \\bar{v} \\\\ 0 & 0 & 1 \\end{bmatrix} \\cdot \\begin{bmatrix} u \\\\ v \\\\ 1 \\end{bmatrix} $$\n",
    "\n",
    "5. **Deriving Scale Factor $s$**:\n",
    "   - The scale factor $s$ is determined by the condition that the average distance from the origin should be $\\sqrt{2}$. If $\\sigma$ is the average standard deviation from the centroid, then $s = \\frac{\\sqrt{2}}{\\sigma}$.\n",
    "\n",
    "6. **Final Matrix $T$**:\n",
    "   - The normalization matrix $T$ is thus defined as:\n",
    "     $$ T = \\begin{bmatrix} \\frac{\\sqrt{2}}{\\sigma} & 0 & -\\frac{\\sqrt{2}}{\\sigma} \\cdot \\bar{u} \\\\ 0 & \\frac{\\sqrt{2}}{\\sigma} & -\\frac{\\sqrt{2}}{\\sigma} \\cdot \\bar{v} \\\\ 0 & 0 & 1 \\end{bmatrix} $$\n",
    "   - Here $\\sigma$ is the average of the standard deviations of $u$ and $v$ coordinates: $\\sigma = \\frac{\\text{std}(u) + \\text{std}(v)}{2}$.\n",
    "\n",
    "This matrix, when applied to a set of points, normalizes them for a mean of zero and an average distance from the origin of $\\sqrt{2}$. This process is crucial for maintaining numerical stability in algorithms that compute transformations such as homography.\n",
    "\n"
   ],
   "metadata": {
    "collapsed": false
   },
   "id": "4d876698e955616b"
  },
  {
   "cell_type": "markdown",
   "source": [
    "### Task 3\n",
    "\n",
    "# Derivation of Denormalization for Homography Matrix\n",
    "\n",
    "Given normalization matrices $T_1$ and $T_2$, and a normalized homography matrix $H$, we can derive a method to denormalize $H$. The denormalization process involves reversing the normalization transformations that were applied to the point sets before computing $H$.\n",
    "\n",
    "## Normalization Process:\n",
    "Points in the original space are transformed to the normalized space using $T_1$:\n",
    "\n",
    "$$\n",
    "\\mathbf{u} = T_1 \\mathbf{u}'\n",
    "$$\n",
    "\n",
    "## Applying the Homography:\n",
    "The homography $H$ relates the normalized points in the first image to the normalized points in the second image:\n",
    "\n",
    "$$\n",
    "\\mathbf{v} \\sim H \\mathbf{u}\n",
    "$$\n",
    "\n",
    "However, to express this relationship in terms of the original image coordinates, we need to apply the inverse of the second normalization matrix $T_2$:\n",
    "\n",
    "$$\n",
    "\\mathbf{v}' = T_2^{-1} \\mathbf{v}\n",
    "$$\n",
    "\n",
    "## Denormalization of Homography:\n",
    "By substituting $\\mathbf{u}$ and $\\mathbf{v}$ into the homography equation, we can derive the denormalized homography matrix $H'$ that maps the original image coordinates:\n",
    "\n",
    "$$\n",
    "T_2^{-1} \\mathbf{v} \\sim T_2^{-1} H T_1 \\mathbf{u}'\n",
    "$$\n",
    "\n",
    "Hence, the denormalized homography matrix $H'$ is obtained by:\n",
    "\n",
    "$$\n",
    "H' = T_2^{-1} H T_1\n",
    "$$\n",
    "\n",
    "This equation allows us to transform the normalized homography matrix back into the coordinate system of the original images.\n"
   ],
   "metadata": {
    "collapsed": false
   },
   "id": "d78b9883f6d6f9ab"
  },
  {
   "cell_type": "code",
   "execution_count": 2,
   "outputs": [],
   "source": [
    "# Function to calculate the normalization matrix\n",
    "def calculate_normalization_matrix(points):\n",
    "    mean = np.mean(points, axis=0)\n",
    "    std = np.std(points, axis=0)\n",
    "    std_avg = np.mean(std)\n",
    "    scale = np.sqrt(2) / std_avg\n",
    "    offset = -scale * mean\n",
    "    T = np.array([[scale, 0, offset[0]],\n",
    "                  [0, scale, offset[1]],\n",
    "                  [0, 0, 1]])\n",
    "    return T\n",
    "\n",
    "# Function to apply the normalization matrix to the points\n",
    "def normalize_points(points, T):\n",
    "    normalized_points = []\n",
    "    for point in points:\n",
    "        point_homogeneous = np.append(point, 1)\n",
    "        normalized_point = T @ point_homogeneous\n",
    "        normalized_points.append(normalized_point[:2] / normalized_point[2])\n",
    "    return np.array(normalized_points)\n",
    "\n",
    "# Function to calculate the homography matrix\n",
    "def calculate_homography(point_pairs):\n",
    "    A = []\n",
    "    for point1, point2 in point_pairs:\n",
    "        x, y = point1[0], point1[1]\n",
    "        xp, yp = point2[0], point2[1]\n",
    "        A.append([-x, -y, -1, 0, 0, 0, x*xp, y*xp, xp])\n",
    "        A.append([0, 0, 0, -x, -y, -1, x*yp, y*yp, yp])\n",
    "    A = np.array(A)\n",
    "    \n",
    "    # U, S, Vt = np.linalg.svd(A)\n",
    "    \n",
    "    eig_val, eig_vec = np.linalg.eig(A.T@A)\n",
    "    \n",
    "    \n",
    "    Vt = eig_vec[:,np.argmin(eig_val)]\n",
    "    \n",
    "    H = Vt.reshape(3, 3)\n",
    "    \n",
    "    return H / H[2, 2]"
   ],
   "metadata": {
    "collapsed": false,
    "ExecuteTime": {
     "end_time": "2023-11-17T08:55:55.251534Z",
     "start_time": "2023-11-17T08:55:55.234582Z"
    }
   },
   "id": "2f589d3eaf093dde"
  },
  {
   "cell_type": "code",
   "execution_count": 3,
   "outputs": [
    {
     "data": {
      "text/plain": "      x1     y1     x2     y2\n0  211.0  212.0  439.0  213.0\n1  174.0  335.0  400.0  340.0\n2  182.0  360.0  408.0  366.0\n3   54.0  304.0  281.0  303.0\n4   88.0  313.0  311.0  313.0\n5   24.0  206.0  254.0  208.0\n6  140.0  114.0  362.0  114.0\n7   37.0  105.0  261.0  110.0",
      "text/html": "<div>\n<style scoped>\n    .dataframe tbody tr th:only-of-type {\n        vertical-align: middle;\n    }\n\n    .dataframe tbody tr th {\n        vertical-align: top;\n    }\n\n    .dataframe thead th {\n        text-align: right;\n    }\n</style>\n<table border=\"1\" class=\"dataframe\">\n  <thead>\n    <tr style=\"text-align: right;\">\n      <th></th>\n      <th>x1</th>\n      <th>y1</th>\n      <th>x2</th>\n      <th>y2</th>\n    </tr>\n  </thead>\n  <tbody>\n    <tr>\n      <th>0</th>\n      <td>211.0</td>\n      <td>212.0</td>\n      <td>439.0</td>\n      <td>213.0</td>\n    </tr>\n    <tr>\n      <th>1</th>\n      <td>174.0</td>\n      <td>335.0</td>\n      <td>400.0</td>\n      <td>340.0</td>\n    </tr>\n    <tr>\n      <th>2</th>\n      <td>182.0</td>\n      <td>360.0</td>\n      <td>408.0</td>\n      <td>366.0</td>\n    </tr>\n    <tr>\n      <th>3</th>\n      <td>54.0</td>\n      <td>304.0</td>\n      <td>281.0</td>\n      <td>303.0</td>\n    </tr>\n    <tr>\n      <th>4</th>\n      <td>88.0</td>\n      <td>313.0</td>\n      <td>311.0</td>\n      <td>313.0</td>\n    </tr>\n    <tr>\n      <th>5</th>\n      <td>24.0</td>\n      <td>206.0</td>\n      <td>254.0</td>\n      <td>208.0</td>\n    </tr>\n    <tr>\n      <th>6</th>\n      <td>140.0</td>\n      <td>114.0</td>\n      <td>362.0</td>\n      <td>114.0</td>\n    </tr>\n    <tr>\n      <th>7</th>\n      <td>37.0</td>\n      <td>105.0</td>\n      <td>261.0</td>\n      <td>110.0</td>\n    </tr>\n  </tbody>\n</table>\n</div>"
     },
     "execution_count": 3,
     "metadata": {},
     "output_type": "execute_result"
    }
   ],
   "source": [
    "# Read the point pairs\n",
    "point_pairs = np.genfromtxt('features.txt').T\n",
    "pd.DataFrame(point_pairs, columns=['x1','y1','x2','y2'])"
   ],
   "metadata": {
    "collapsed": false,
    "ExecuteTime": {
     "end_time": "2023-11-17T08:55:55.254461Z",
     "start_time": "2023-11-17T08:55:55.241341Z"
    }
   },
   "id": "19071d94a8f6737e"
  },
  {
   "cell_type": "code",
   "execution_count": 4,
   "outputs": [],
   "source": [
    "points1 = point_pairs[:,:2]\n",
    "points2 = point_pairs[:,-2:]"
   ],
   "metadata": {
    "collapsed": false,
    "ExecuteTime": {
     "end_time": "2023-11-17T08:55:55.263762Z",
     "start_time": "2023-11-17T08:55:55.254328Z"
    }
   },
   "id": "86ca956b5538c2f4"
  },
  {
   "cell_type": "code",
   "execution_count": null,
   "outputs": [],
   "source": [
    "# Normalize the points and calculate the homography matrix\n",
    "T1 = calculate_normalization_matrix(points1)\n",
    "T2 = calculate_normalization_matrix(points2)\n",
    "\n",
    "normalized_points1 = normalize_points(points1, T1)\n",
    "normalized_points2 = normalize_points(points2, T2)\n",
    "\n",
    "normalized_point_pairs = list(zip(points1, points2))\n",
    "H = calculate_homography(normalized_point_pairs)\n",
    "\n",
    "# Denormalize the homography matrix\n",
    "#H = np.linalg.inv(T2) @ H_normalized @ T1\n",
    "\n",
    "# Read the images\n",
    "img1 = cv2.imread('b.png')\n",
    "img2 = cv2.imread('a.png')\n",
    "\n",
    "# Warp the second image to the first using the homography matrix\n",
    "img2_transformed = cv2.warpPerspective(img2, H, (img1.shape[1] + img2.shape[1], img1.shape[0]))\n",
    "\n",
    "# Stitch the images together\n",
    "stitched_img = img2_transformed\n",
    "stitched_img[0:img1.shape[0], 0:img1.shape[1]] = img1\n",
    "\n",
    "# Save the stitched image\n",
    "cv2.imwrite('stitched_image.png', stitched_img)\n",
    "\n",
    "# Display the stitched image\n",
    "cv2.imshow('Stitched Image', stitched_img)\n",
    "cv2.waitKey(0)\n",
    "cv2.destroyAllWindows()\n"
   ],
   "metadata": {
    "collapsed": false,
    "is_executing": true,
    "ExecuteTime": {
     "start_time": "2023-11-17T08:55:55.259241Z"
    }
   },
   "id": "30b2952770f87bf3"
  },
  {
   "cell_type": "code",
   "execution_count": null,
   "outputs": [],
   "source": [],
   "metadata": {
    "collapsed": false,
    "is_executing": true
   },
   "id": "7606b36876e7a73d"
  }
 ],
 "metadata": {
  "kernelspec": {
   "display_name": "Python 3",
   "language": "python",
   "name": "python3"
  },
  "language_info": {
   "codemirror_mode": {
    "name": "ipython",
    "version": 2
   },
   "file_extension": ".py",
   "mimetype": "text/x-python",
   "name": "python",
   "nbconvert_exporter": "python",
   "pygments_lexer": "ipython2",
   "version": "2.7.6"
  }
 },
 "nbformat": 4,
 "nbformat_minor": 5
}
